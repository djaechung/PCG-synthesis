{
  "cells": [
    {
      "cell_type": "code",
      "execution_count": null,
      "metadata": {
        "id": "ySLbSZmHYNvG"
      },
      "outputs": [],
      "source": [
        "import torchvision.models as models\n",
        "from torchsummary import summary\n",
        "import torch.nn as nn\n",
        "import torch\n",
        "import pandas as pd\n",
        "import matplotlib.pyplot as plt\n",
        "import regex as re\n",
        "import json\n",
        "import numpy as np\n",
        "import os\n",
        "import torch.optim as optim\n",
        "import imageio\n",
        "import torchvision.models as models\n",
        "from sklearn.metrics import recall_score\n",
        "from sklearn.metrics import precision_score\n",
        "import random"
      ]
    },
    {
      "cell_type": "code",
      "execution_count": null,
      "metadata": {
        "colab": {
          "base_uri": "https://localhost:8080/"
        },
        "id": "ZQkfhNFqYS9d",
        "outputId": "904674db-4e70-41f3-81c0-f4d5c84c5492"
      },
      "outputs": [
        {
          "output_type": "stream",
          "name": "stdout",
          "text": [
            "Mounted at /content/drive/\n"
          ]
        }
      ],
      "source": [
        "from google.colab import drive\n",
        "drive.mount('/content/drive/', force_remount=True)"
      ]
    },
    {
      "cell_type": "markdown",
      "metadata": {
        "id": "CVPWu4pfYVVw"
      },
      "source": [
        "# Objective:\n",
        "Create a resuable model development pipeline than can make audio classification way more streamlined.\n",
        "\n",
        "It would do these things:\n",
        "* Train the model\n",
        "* Validate the model\n",
        "* Test the model\n",
        "* Summarize and report results"
      ]
    },
    {
      "cell_type": "markdown",
      "metadata": {
        "id": "-SGj4_RjcWC-"
      },
      "source": [
        "# Setup"
      ]
    },
    {
      "cell_type": "markdown",
      "metadata": {
        "id": "IKLzi0kNcv8A"
      },
      "source": [
        "Establish GPU"
      ]
    },
    {
      "cell_type": "code",
      "execution_count": null,
      "metadata": {
        "id": "8tAvFrOIctQy"
      },
      "outputs": [],
      "source": [
        "device = torch.device('cuda' if torch.cuda.is_available() else 'cpu')"
      ]
    },
    {
      "cell_type": "markdown",
      "metadata": {
        "id": "9Fyj4ft6cxbU"
      },
      "source": [
        "Establish dataset structure"
      ]
    },
    {
      "cell_type": "code",
      "execution_count": null,
      "metadata": {
        "id": "O8PuQV93cVkg"
      },
      "outputs": [],
      "source": [
        "# custom 2D spectrogram dataset class\n",
        "class SpectrogramDataset2D(torch.utils.data.Dataset):\n",
        "    def __init__(self, data_dir, mode, labels_json, is_aug=False):\n",
        "        self.is_aug = is_aug\n",
        "        self.data_dir = data_dir\n",
        "        self.mode = mode\n",
        "        self.labels_json = labels_json\n",
        "        if self.is_aug:\n",
        "          self.image_filenames = [spectrogram_file for spectrogram_file in os.listdir(self.data_dir)]\n",
        "        else:\n",
        "          self.image_filenames = [spectrogram_file for spectrogram_file in os.listdir(os.path.join(self.data_dir, self.mode))]\n",
        "        self.pcg_ids = [self.pcgid_from_filename(image_filename) for image_filename in self.image_filenames]\n",
        "        #self.labels = torch.tensor(self.load_data()).unsqueeze(1).float()\n",
        "        self.labels = torch.tensor(self.load_data()).float()\n",
        "\n",
        "    def __getitem__(self, index):\n",
        "        # locate png file and extract image as 2d array\n",
        "        pcg_id = self.pcgid_from_filename(self.image_filenames[index])\n",
        "        if self.is_aug:\n",
        "          spect_path = self.data_dir + str(pcg_id) + \".png\"\n",
        "        else:\n",
        "          spect_path = self.data_dir + self.mode + '/' + str(pcg_id) + \".png\"\n",
        "        img_data = imageio.imread(spect_path)\n",
        "        image_tensor = torch.tensor(img_data).unsqueeze(0)\n",
        "\n",
        "        label = self.labels[index]\n",
        "        return image_tensor, label\n",
        "\n",
        "    def __len__(self):\n",
        "        return len(self.image_filenames)\n",
        "\n",
        "    def pcgid_from_filename(self, filename):\n",
        "        return filename[:-4] # removes .wav extension\n",
        "\n",
        "    def labels_from_json(self, labels_json):\n",
        "        labels_df = pd.read_csv(self.labels_json)[['pcg_id','murmur']]\n",
        "        labels_dict = dict(zip(labels_df.pcg_id, labels_df.murmur))\n",
        "        labels = []\n",
        "        label_key = {\"Absent\": 0,\n",
        "                     \"Present\": 1,\n",
        "                     \"Unknown\": 2,\n",
        "                     \"0\": 0,\n",
        "                     \"1\": 1,\n",
        "                     \"2\": 2}\n",
        "        for image_filename in self.image_filenames:\n",
        "            pcg_id = self.pcgid_from_filename(image_filename)\n",
        "            label_str = labels_dict[pcg_id]\n",
        "            labels.append(label_key[label_str])\n",
        "        return labels\n",
        "\n",
        "    def load_data(self):\n",
        "        # list of labels\n",
        "        labels = self.labels_from_json(self.labels_json)\n",
        "\n",
        "        # list of image filenames\n",
        "        labels = self.labels_from_json(self.labels_json)  # list of corresponding labels\n",
        "        return labels"
      ]
    },
    {
      "cell_type": "markdown",
      "metadata": {
        "id": "b-DQ0CLEZiym"
      },
      "source": [
        "# Model Creation"
      ]
    },
    {
      "cell_type": "code",
      "execution_count": null,
      "metadata": {
        "id": "Ic6aF-qRuz33"
      },
      "outputs": [],
      "source": [
        "# locating data directories\n",
        "real_spec_data_dir = \"/content/drive/MyDrive/Stuff I Coded/PCG_synthesis/data2/real/spectrograms/\"\n",
        "real_wav_data_dir =  \"/content/drive/MyDrive/Stuff I Coded/PCG_synthesis/data2/real/phonocardiograms/\"\n",
        "ai_spec_data_dir =   \"/content/drive/MyDrive/Stuff I Coded/PCG_synthesis/data2/ai/spectrograms/\"\n",
        "ai_wav_data_dir =    \"/content/drive/MyDrive/Stuff I Coded/PCG_synthesis/data2/ai/phonocardiograms/\""
      ]
    },
    {
      "cell_type": "code",
      "execution_count": null,
      "metadata": {
        "id": "3ZvRQZj6v9OM"
      },
      "outputs": [],
      "source": [
        "# augmented data directories\n",
        "#aug_spec_data_dir = \"/content/drive/MyDrive/Stuff I Coded/PCG_synthesis/data2/augmented/spectrograms/smart_aug_50p/\"\n",
        "#aug_spec_data_dir = \"/content/drive/MyDrive/Stuff I Coded/PCG_synthesis/data2/augmented/spectrograms/smart_aug_694/\"\n",
        "aug_spec_data_dir = \"/content/drive/MyDrive/Stuff I Coded/PCG_synthesis/data2/augmented/spectrograms/rand_aug_1041/\""
      ]
    },
    {
      "cell_type": "code",
      "execution_count": null,
      "metadata": {
        "id": "4EIPC19qbz-x"
      },
      "outputs": [],
      "source": [
        "# locating labels directory\n",
        "real_labels_json_path = \"/content/drive/MyDrive/Stuff I Coded/PCG_synthesis/model_development/real_murmur_key.csv\"\n",
        "ai_labels_json_path = \"/content/drive/MyDrive/Stuff I Coded/PCG_synthesis/model_development/ai_murmur_key.csv\"\n",
        "aug_labels_json_path = \"/content/drive/MyDrive/Stuff I Coded/PCG_synthesis/data2/augmented/rand_aug_1041_key.csv\""
      ]
    },
    {
      "cell_type": "code",
      "execution_count": null,
      "metadata": {
        "id": "cc0yYYnHb5u_"
      },
      "outputs": [],
      "source": [
        "# defining the dataset and dataloaders\n",
        "train_dataset = SpectrogramDataset2D(ai_spec_data_dir, 'train', ai_labels_json_path)\n",
        "#train_dataset = SpectrogramDataset2D(aug_spec_data_dir, 'train', aug_labels_json_path, is_aug=True)\n",
        "#train_dataset = SpectrogramDataset2D(real_spec_data_dir, 'train', real_labels_json_path)\n",
        "\n",
        "val_dataset = SpectrogramDataset2D(real_spec_data_dir, 'val', real_labels_json_path)\n",
        "test_dataset = SpectrogramDataset2D(real_spec_data_dir, 'test', real_labels_json_path)\n",
        "\n",
        "train_dataloader = torch.utils.data.DataLoader(train_dataset, batch_size=64, shuffle=True)\n",
        "val_dataloader = torch.utils.data.DataLoader(val_dataset, batch_size=64, shuffle=False)\n",
        "test_dataloader = torch.utils.data.DataLoader(test_dataset, batch_size=64, shuffle=False)"
      ]
    },
    {
      "cell_type": "markdown",
      "metadata": {
        "id": "o9UGDSmCI83q"
      },
      "source": [
        "## ResNet18"
      ]
    },
    {
      "cell_type": "code",
      "execution_count": null,
      "metadata": {
        "colab": {
          "base_uri": "https://localhost:8080/"
        },
        "id": "-deZQrLTYTB1",
        "outputId": "f9b8a765-53fa-4e17-8665-ad7921dda813"
      },
      "outputs": [
        {
          "output_type": "stream",
          "name": "stderr",
          "text": [
            "/usr/local/lib/python3.10/dist-packages/torchvision/models/_utils.py:208: UserWarning: The parameter 'pretrained' is deprecated since 0.13 and may be removed in the future, please use 'weights' instead.\n",
            "  warnings.warn(\n",
            "/usr/local/lib/python3.10/dist-packages/torchvision/models/_utils.py:223: UserWarning: Arguments other than a weight enum or `None` for 'weights' are deprecated since 0.13 and may be removed in the future. The current behavior is equivalent to passing `weights=ResNet18_Weights.IMAGENET1K_V1`. You can also use `weights=ResNet18_Weights.DEFAULT` to get the most up-to-date weights.\n",
            "  warnings.warn(msg)\n",
            "Downloading: \"https://download.pytorch.org/models/resnet18-f37072fd.pth\" to /root/.cache/torch/hub/checkpoints/resnet18-f37072fd.pth\n",
            "100%|██████████| 44.7M/44.7M [00:00<00:00, 168MB/s]\n"
          ]
        }
      ],
      "source": [
        "resnet18 = models.resnet18(pretrained=True)"
      ]
    },
    {
      "cell_type": "code",
      "execution_count": null,
      "metadata": {
        "id": "JVIGef3iayBZ"
      },
      "outputs": [],
      "source": [
        "# adjusting the first convolutional layer to accept single-channel input\n",
        "# (1, 128, 385) instead of the original (3, 224, 224)\n",
        "resnet18.conv1 = nn.Conv2d(1, 64, kernel_size=(7, 7), stride=(2, 2), padding=(3, 3), bias=False)\n",
        "\n",
        "# adjusting the final layer to output probabilities for multiclass classification\n",
        "num_features = resnet18.fc.in_features\n",
        "resnet18.fc = nn.Sequential(\n",
        "    nn.Linear(num_features, 3),\n",
        "    nn.Softmax()\n",
        ")\n",
        "\n",
        "# making a custom ResNet18 class\n",
        "class CustomResNet18(nn.Module):\n",
        "    def __init__(self):\n",
        "        super(CustomResNet18, self).__init__()\n",
        "        self.model = resnet18\n",
        "\n",
        "    def forward(self, x):\n",
        "        return self.model(x)\n",
        "\n",
        "# Instantiate the custom model\n",
        "my_resnet18 = CustomResNet18()"
      ]
    },
    {
      "cell_type": "code",
      "execution_count": null,
      "metadata": {
        "id": "Zt5Ld5H9a-Bq"
      },
      "outputs": [],
      "source": [
        "my_resnet18.to(device);"
      ]
    },
    {
      "cell_type": "markdown",
      "metadata": {
        "id": "lKAbiaOzJVw3"
      },
      "source": [
        "# Training Setup"
      ]
    },
    {
      "cell_type": "code",
      "execution_count": null,
      "metadata": {
        "id": "_NhTUxWOI_57"
      },
      "outputs": [],
      "source": [
        "model = resnet18"
      ]
    },
    {
      "cell_type": "code",
      "execution_count": null,
      "metadata": {
        "id": "tMkSAcHObQVQ"
      },
      "outputs": [],
      "source": [
        "# loss function and optimizer\n",
        "criterion = nn.functional.cross_entropy\n",
        "optimizer = optim.Adam(model.parameters(), lr=0.00001)"
      ]
    },
    {
      "cell_type": "code",
      "execution_count": null,
      "metadata": {
        "id": "R7sfADD5bV-_"
      },
      "outputs": [],
      "source": [
        "if torch.cuda.is_available():\n",
        "    model.cuda()"
      ]
    },
    {
      "cell_type": "code",
      "execution_count": null,
      "metadata": {
        "colab": {
          "base_uri": "https://localhost:8080/"
        },
        "id": "AE2yXxlf3O4e",
        "outputId": "969c05b8-aca1-4868-e5ca-bf03e833d88e"
      },
      "outputs": [
        {
          "output_type": "stream",
          "name": "stderr",
          "text": [
            "<ipython-input-12-e8f373e4609a>:23: DeprecationWarning: Starting with ImageIO v3 the behavior of this function will switch to that of iio.v3.imread. To keep the current behavior (and make this warning disappear) use `import imageio.v2 as imageio` or call `imageio.v2.imread` directly.\n",
            "  img_data = imageio.imread(spect_path)\n"
          ]
        },
        {
          "output_type": "execute_result",
          "data": {
            "text/plain": [
              "(tensor([[[ 38,  19,   0,  ...,   0,   0,   0],\n",
              "          [ 38,  19,   0,  ...,   0,   0,   0],\n",
              "          [ 38,  19,   0,  ...,   0,   0,   0],\n",
              "          ...,\n",
              "          [199, 194, 162,  ..., 171, 155, 134],\n",
              "          [212, 210, 185,  ..., 172, 160, 146],\n",
              "          [208, 206, 168,  ..., 173, 178, 165]]], dtype=torch.uint8),\n",
              " tensor(0.))"
            ]
          },
          "metadata": {},
          "execution_count": 28
        }
      ],
      "source": [
        "train_dataset.__getitem__(0)"
      ]
    },
    {
      "cell_type": "markdown",
      "metadata": {
        "id": "gw4USqC3Zlnl"
      },
      "source": [
        "\n",
        "# Train Model"
      ]
    },
    {
      "cell_type": "code",
      "execution_count": null,
      "metadata": {
        "id": "nHCNo-lclZVg"
      },
      "outputs": [],
      "source": [
        "SEED = 3141\n",
        "\n",
        "# setting seeds for reproducibility\n",
        "torch.manual_seed(SEED) # PyTorch random seed\n",
        "np.random.seed(SEED) # Numpy random seed\n",
        "random.seed(SEED) # Python random seed\n",
        "\n",
        "# If you are working with CUDA...\n",
        "if torch.cuda.is_available():\n",
        "    torch.cuda.manual_seed(SEED)\n",
        "    torch.cuda.manual_seed_all(SEED) # if you are using multi-GPU.\n",
        "    # Below two lines for deterministic algorithm, might slow down your training.\n",
        "    # torch.backends.cudnn.deterministic = True\n",
        "    # torch.backends.cudnn.benchmark = False"
      ]
    },
    {
      "cell_type": "code",
      "execution_count": null,
      "metadata": {
        "colab": {
          "base_uri": "https://localhost:8080/"
        },
        "id": "buMNqJH2YTD6",
        "outputId": "eccce0ec-da8f-4657-9f11-d3bc76cf7728"
      },
      "outputs": [
        {
          "output_type": "stream",
          "name": "stderr",
          "text": [
            "<ipython-input-12-e8f373e4609a>:23: DeprecationWarning: Starting with ImageIO v3 the behavior of this function will switch to that of iio.v3.imread. To keep the current behavior (and make this warning disappear) use `import imageio.v2 as imageio` or call `imageio.v2.imread` directly.\n",
            "  img_data = imageio.imread(spect_path)\n",
            "/usr/local/lib/python3.10/dist-packages/torch/nn/modules/module.py:1511: UserWarning: Implicit dimension choice for softmax has been deprecated. Change the call to include dim=X as an argument.\n",
            "  return self._call_impl(*args, **kwargs)\n"
          ]
        },
        {
          "output_type": "stream",
          "name": "stdout",
          "text": [
            "Train Epoch: 0 [0/2101 (0%)]\tLoss: 1.048990\n",
            "Train Epoch: 0 [640/2101 (30%)]\tLoss: 0.990977\n",
            "Train Epoch: 0 [1280/2101 (61%)]\tLoss: 0.976369\n",
            "Train Epoch: 0 [1920/2101 (91%)]\tLoss: 0.883777\n",
            "Train Epoch: 1 [0/2101 (0%)]\tLoss: 0.863470\n",
            "Train Epoch: 1 [640/2101 (30%)]\tLoss: 0.798746\n",
            "Train Epoch: 1 [1280/2101 (61%)]\tLoss: 0.828792\n",
            "Train Epoch: 1 [1920/2101 (91%)]\tLoss: 0.767235\n",
            "Train Epoch: 2 [0/2101 (0%)]\tLoss: 0.787060\n",
            "Train Epoch: 2 [640/2101 (30%)]\tLoss: 0.717883\n",
            "Train Epoch: 2 [1280/2101 (61%)]\tLoss: 0.725649\n",
            "Train Epoch: 2 [1920/2101 (91%)]\tLoss: 0.661937\n",
            "Train Epoch: 3 [0/2101 (0%)]\tLoss: 0.668685\n",
            "Train Epoch: 3 [640/2101 (30%)]\tLoss: 0.670293\n",
            "Train Epoch: 3 [1280/2101 (61%)]\tLoss: 0.628877\n",
            "Train Epoch: 3 [1920/2101 (91%)]\tLoss: 0.661812\n",
            "Train Epoch: 4 [0/2101 (0%)]\tLoss: 0.682220\n",
            "Train Epoch: 4 [640/2101 (30%)]\tLoss: 0.622401\n",
            "Train Epoch: 4 [1280/2101 (61%)]\tLoss: 0.594941\n",
            "Train Epoch: 4 [1920/2101 (91%)]\tLoss: 0.605135\n",
            "Train Epoch: 5 [0/2101 (0%)]\tLoss: 0.611842\n",
            "Train Epoch: 5 [640/2101 (30%)]\tLoss: 0.587360\n",
            "Train Epoch: 5 [1280/2101 (61%)]\tLoss: 0.586772\n",
            "Train Epoch: 5 [1920/2101 (91%)]\tLoss: 0.584625\n",
            "Train Epoch: 6 [0/2101 (0%)]\tLoss: 0.571452\n",
            "Train Epoch: 6 [640/2101 (30%)]\tLoss: 0.612744\n",
            "Train Epoch: 6 [1280/2101 (61%)]\tLoss: 0.612239\n",
            "Train Epoch: 6 [1920/2101 (91%)]\tLoss: 0.577665\n",
            "Train Epoch: 7 [0/2101 (0%)]\tLoss: 0.580409\n",
            "Train Epoch: 7 [640/2101 (30%)]\tLoss: 0.577476\n",
            "Train Epoch: 7 [1280/2101 (61%)]\tLoss: 0.569875\n",
            "Train Epoch: 7 [1920/2101 (91%)]\tLoss: 0.618942\n",
            "Train Epoch: 8 [0/2101 (0%)]\tLoss: 0.568600\n",
            "Train Epoch: 8 [640/2101 (30%)]\tLoss: 0.562605\n",
            "Train Epoch: 8 [1280/2101 (61%)]\tLoss: 0.583743\n",
            "Train Epoch: 8 [1920/2101 (91%)]\tLoss: 0.562257\n",
            "Train Epoch: 9 [0/2101 (0%)]\tLoss: 0.574448\n",
            "Train Epoch: 9 [640/2101 (30%)]\tLoss: 0.566648\n",
            "Train Epoch: 9 [1280/2101 (61%)]\tLoss: 0.557273\n",
            "Train Epoch: 9 [1920/2101 (91%)]\tLoss: 0.581451\n",
            "Train Epoch: 10 [0/2101 (0%)]\tLoss: 0.557829\n",
            "Train Epoch: 10 [640/2101 (30%)]\tLoss: 0.559313\n",
            "Train Epoch: 10 [1280/2101 (61%)]\tLoss: 0.564477\n",
            "Train Epoch: 10 [1920/2101 (91%)]\tLoss: 0.556479\n",
            "Train Epoch: 11 [0/2101 (0%)]\tLoss: 0.555497\n",
            "Train Epoch: 11 [640/2101 (30%)]\tLoss: 0.556487\n",
            "Train Epoch: 11 [1280/2101 (61%)]\tLoss: 0.559623\n",
            "Train Epoch: 11 [1920/2101 (91%)]\tLoss: 0.556853\n",
            "Train Epoch: 12 [0/2101 (0%)]\tLoss: 0.557743\n",
            "Train Epoch: 12 [640/2101 (30%)]\tLoss: 0.555228\n",
            "Train Epoch: 12 [1280/2101 (61%)]\tLoss: 0.555274\n",
            "Train Epoch: 12 [1920/2101 (91%)]\tLoss: 0.561098\n",
            "Train Epoch: 13 [0/2101 (0%)]\tLoss: 0.554756\n",
            "Train Epoch: 13 [640/2101 (30%)]\tLoss: 0.554976\n",
            "Train Epoch: 13 [1280/2101 (61%)]\tLoss: 0.554641\n",
            "Train Epoch: 13 [1920/2101 (91%)]\tLoss: 0.573166\n",
            "Train Epoch: 14 [0/2101 (0%)]\tLoss: 0.554072\n",
            "Train Epoch: 14 [640/2101 (30%)]\tLoss: 0.557677\n",
            "Train Epoch: 14 [1280/2101 (61%)]\tLoss: 0.558483\n",
            "Train Epoch: 14 [1920/2101 (91%)]\tLoss: 0.559267\n",
            "Train Epoch: 15 [0/2101 (0%)]\tLoss: 0.554571\n",
            "Train Epoch: 15 [640/2101 (30%)]\tLoss: 0.554989\n",
            "Train Epoch: 15 [1280/2101 (61%)]\tLoss: 0.554722\n",
            "Train Epoch: 15 [1920/2101 (91%)]\tLoss: 0.553250\n",
            "Train Epoch: 16 [0/2101 (0%)]\tLoss: 0.553184\n",
            "Train Epoch: 16 [640/2101 (30%)]\tLoss: 0.553412\n",
            "Train Epoch: 16 [1280/2101 (61%)]\tLoss: 0.553007\n",
            "Train Epoch: 16 [1920/2101 (91%)]\tLoss: 0.553829\n",
            "Train Epoch: 17 [0/2101 (0%)]\tLoss: 0.553561\n",
            "Train Epoch: 17 [640/2101 (30%)]\tLoss: 0.553380\n",
            "Train Epoch: 17 [1280/2101 (61%)]\tLoss: 0.553910\n",
            "Train Epoch: 17 [1920/2101 (91%)]\tLoss: 0.555144\n",
            "Train Epoch: 18 [0/2101 (0%)]\tLoss: 0.554816\n",
            "Train Epoch: 18 [640/2101 (30%)]\tLoss: 0.553144\n",
            "Train Epoch: 18 [1280/2101 (61%)]\tLoss: 0.552709\n",
            "Train Epoch: 18 [1920/2101 (91%)]\tLoss: 0.552982\n",
            "Train Epoch: 19 [0/2101 (0%)]\tLoss: 0.554649\n",
            "Train Epoch: 19 [640/2101 (30%)]\tLoss: 0.553844\n",
            "Train Epoch: 19 [1280/2101 (61%)]\tLoss: 0.554351\n",
            "Train Epoch: 19 [1920/2101 (91%)]\tLoss: 0.552756\n",
            "Train Epoch: 20 [0/2101 (0%)]\tLoss: 0.552899\n",
            "Train Epoch: 20 [640/2101 (30%)]\tLoss: 0.552708\n",
            "Train Epoch: 20 [1280/2101 (61%)]\tLoss: 0.552920\n",
            "Train Epoch: 20 [1920/2101 (91%)]\tLoss: 0.557226\n",
            "Train Epoch: 21 [0/2101 (0%)]\tLoss: 0.552963\n",
            "Train Epoch: 21 [640/2101 (30%)]\tLoss: 0.552883\n",
            "Train Epoch: 21 [1280/2101 (61%)]\tLoss: 0.553393\n",
            "Train Epoch: 21 [1920/2101 (91%)]\tLoss: 0.553225\n",
            "Train Epoch: 22 [0/2101 (0%)]\tLoss: 0.553531\n",
            "Train Epoch: 22 [640/2101 (30%)]\tLoss: 0.554242\n",
            "Train Epoch: 22 [1280/2101 (61%)]\tLoss: 0.553684\n",
            "Train Epoch: 22 [1920/2101 (91%)]\tLoss: 0.553288\n",
            "Train Epoch: 23 [0/2101 (0%)]\tLoss: 0.553006\n",
            "Train Epoch: 23 [640/2101 (30%)]\tLoss: 0.553266\n",
            "Train Epoch: 23 [1280/2101 (61%)]\tLoss: 0.552954\n",
            "Train Epoch: 23 [1920/2101 (91%)]\tLoss: 0.552348\n",
            "Train Epoch: 24 [0/2101 (0%)]\tLoss: 0.553393\n",
            "Train Epoch: 24 [640/2101 (30%)]\tLoss: 0.554695\n",
            "Train Epoch: 24 [1280/2101 (61%)]\tLoss: 0.554019\n",
            "Train Epoch: 24 [1920/2101 (91%)]\tLoss: 0.553492\n",
            "Train Epoch: 25 [0/2101 (0%)]\tLoss: 0.554371\n",
            "Train Epoch: 25 [640/2101 (30%)]\tLoss: 0.552341\n",
            "Train Epoch: 25 [1280/2101 (61%)]\tLoss: 0.553219\n",
            "Train Epoch: 25 [1920/2101 (91%)]\tLoss: 0.552227\n",
            "Train Epoch: 26 [0/2101 (0%)]\tLoss: 0.552165\n",
            "Train Epoch: 26 [640/2101 (30%)]\tLoss: 0.554027\n",
            "Train Epoch: 26 [1280/2101 (61%)]\tLoss: 0.552535\n",
            "Train Epoch: 26 [1920/2101 (91%)]\tLoss: 0.553521\n",
            "Train Epoch: 27 [0/2101 (0%)]\tLoss: 0.552442\n",
            "Train Epoch: 27 [640/2101 (30%)]\tLoss: 0.552490\n",
            "Train Epoch: 27 [1280/2101 (61%)]\tLoss: 0.574439\n",
            "Train Epoch: 27 [1920/2101 (91%)]\tLoss: 0.552138\n",
            "Train Epoch: 28 [0/2101 (0%)]\tLoss: 0.552885\n",
            "Train Epoch: 28 [640/2101 (30%)]\tLoss: 0.552615\n",
            "Train Epoch: 28 [1280/2101 (61%)]\tLoss: 0.552534\n",
            "Train Epoch: 28 [1920/2101 (91%)]\tLoss: 0.552494\n",
            "Train Epoch: 29 [0/2101 (0%)]\tLoss: 0.552334\n",
            "Train Epoch: 29 [640/2101 (30%)]\tLoss: 0.552288\n",
            "Train Epoch: 29 [1280/2101 (61%)]\tLoss: 0.553737\n",
            "Train Epoch: 29 [1920/2101 (91%)]\tLoss: 0.551995\n",
            "Train Epoch: 30 [0/2101 (0%)]\tLoss: 0.552208\n",
            "Train Epoch: 30 [640/2101 (30%)]\tLoss: 0.552455\n",
            "Train Epoch: 30 [1280/2101 (61%)]\tLoss: 0.552095\n",
            "Train Epoch: 30 [1920/2101 (91%)]\tLoss: 0.552033\n",
            "Train Epoch: 31 [0/2101 (0%)]\tLoss: 0.552662\n",
            "Train Epoch: 31 [640/2101 (30%)]\tLoss: 0.552611\n",
            "Train Epoch: 31 [1280/2101 (61%)]\tLoss: 0.552148\n",
            "Train Epoch: 31 [1920/2101 (91%)]\tLoss: 0.553176\n",
            "Train Epoch: 32 [0/2101 (0%)]\tLoss: 0.560860\n",
            "Train Epoch: 32 [640/2101 (30%)]\tLoss: 0.552303\n",
            "Train Epoch: 32 [1280/2101 (61%)]\tLoss: 0.552297\n",
            "Train Epoch: 32 [1920/2101 (91%)]\tLoss: 0.552193\n",
            "Train Epoch: 33 [0/2101 (0%)]\tLoss: 0.552133\n",
            "Train Epoch: 33 [640/2101 (30%)]\tLoss: 0.552069\n",
            "Train Epoch: 33 [1280/2101 (61%)]\tLoss: 0.552029\n",
            "Train Epoch: 33 [1920/2101 (91%)]\tLoss: 0.552684\n",
            "Train Epoch: 34 [0/2101 (0%)]\tLoss: 0.552097\n",
            "Train Epoch: 34 [640/2101 (30%)]\tLoss: 0.552085\n",
            "Train Epoch: 34 [1280/2101 (61%)]\tLoss: 0.552038\n",
            "Train Epoch: 34 [1920/2101 (91%)]\tLoss: 0.552849\n",
            "Train Epoch: 35 [0/2101 (0%)]\tLoss: 0.553367\n",
            "Train Epoch: 35 [640/2101 (30%)]\tLoss: 0.551958\n",
            "Train Epoch: 35 [1280/2101 (61%)]\tLoss: 0.552402\n",
            "Train Epoch: 35 [1920/2101 (91%)]\tLoss: 0.552077\n",
            "Train Epoch: 36 [0/2101 (0%)]\tLoss: 0.551882\n",
            "Train Epoch: 36 [640/2101 (30%)]\tLoss: 0.551945\n",
            "Train Epoch: 36 [1280/2101 (61%)]\tLoss: 0.551897\n",
            "Train Epoch: 36 [1920/2101 (91%)]\tLoss: 0.552508\n",
            "Train Epoch: 37 [0/2101 (0%)]\tLoss: 0.556130\n",
            "Train Epoch: 37 [640/2101 (30%)]\tLoss: 0.551811\n",
            "Train Epoch: 37 [1280/2101 (61%)]\tLoss: 0.551937\n",
            "Train Epoch: 37 [1920/2101 (91%)]\tLoss: 0.551997\n",
            "Train Epoch: 38 [0/2101 (0%)]\tLoss: 0.551875\n",
            "Train Epoch: 38 [640/2101 (30%)]\tLoss: 0.552082\n",
            "Train Epoch: 38 [1280/2101 (61%)]\tLoss: 0.551900\n",
            "Train Epoch: 38 [1920/2101 (91%)]\tLoss: 0.552377\n",
            "Train Epoch: 39 [0/2101 (0%)]\tLoss: 0.551820\n",
            "Train Epoch: 39 [640/2101 (30%)]\tLoss: 0.551992\n",
            "Train Epoch: 39 [1280/2101 (61%)]\tLoss: 0.552005\n",
            "Train Epoch: 39 [1920/2101 (91%)]\tLoss: 0.552040\n",
            "Train Epoch: 40 [0/2101 (0%)]\tLoss: 0.551985\n",
            "Train Epoch: 40 [640/2101 (30%)]\tLoss: 0.552271\n",
            "Train Epoch: 40 [1280/2101 (61%)]\tLoss: 0.552045\n",
            "Train Epoch: 40 [1920/2101 (91%)]\tLoss: 0.552027\n",
            "Train Epoch: 41 [0/2101 (0%)]\tLoss: 0.552505\n",
            "Train Epoch: 41 [640/2101 (30%)]\tLoss: 0.551877\n",
            "Train Epoch: 41 [1280/2101 (61%)]\tLoss: 0.551799\n",
            "Train Epoch: 41 [1920/2101 (91%)]\tLoss: 0.552376\n",
            "Train Epoch: 42 [0/2101 (0%)]\tLoss: 0.551910\n",
            "Train Epoch: 42 [640/2101 (30%)]\tLoss: 0.551924\n",
            "Train Epoch: 42 [1280/2101 (61%)]\tLoss: 0.551896\n",
            "Train Epoch: 42 [1920/2101 (91%)]\tLoss: 0.551947\n",
            "Train Epoch: 43 [0/2101 (0%)]\tLoss: 0.551969\n",
            "Train Epoch: 43 [640/2101 (30%)]\tLoss: 0.551955\n",
            "Train Epoch: 43 [1280/2101 (61%)]\tLoss: 0.551814\n",
            "Train Epoch: 43 [1920/2101 (91%)]\tLoss: 0.552521\n",
            "Train Epoch: 44 [0/2101 (0%)]\tLoss: 0.552249\n",
            "Train Epoch: 44 [640/2101 (30%)]\tLoss: 0.553251\n",
            "Train Epoch: 44 [1280/2101 (61%)]\tLoss: 0.551811\n",
            "Train Epoch: 44 [1920/2101 (91%)]\tLoss: 0.552302\n",
            "Train Epoch: 45 [0/2101 (0%)]\tLoss: 0.551687\n",
            "Train Epoch: 45 [640/2101 (30%)]\tLoss: 0.551868\n",
            "Train Epoch: 45 [1280/2101 (61%)]\tLoss: 0.551793\n",
            "Train Epoch: 45 [1920/2101 (91%)]\tLoss: 0.551974\n",
            "Train Epoch: 46 [0/2101 (0%)]\tLoss: 0.552153\n",
            "Train Epoch: 46 [640/2101 (30%)]\tLoss: 0.551961\n",
            "Train Epoch: 46 [1280/2101 (61%)]\tLoss: 0.551836\n",
            "Train Epoch: 46 [1920/2101 (91%)]\tLoss: 0.552402\n",
            "Train Epoch: 47 [0/2101 (0%)]\tLoss: 0.551810\n",
            "Train Epoch: 47 [640/2101 (30%)]\tLoss: 0.551925\n",
            "Train Epoch: 47 [1280/2101 (61%)]\tLoss: 0.551725\n",
            "Train Epoch: 47 [1920/2101 (91%)]\tLoss: 0.551925\n",
            "Train Epoch: 48 [0/2101 (0%)]\tLoss: 0.551980\n",
            "Train Epoch: 48 [640/2101 (30%)]\tLoss: 0.551968\n",
            "Train Epoch: 48 [1280/2101 (61%)]\tLoss: 0.551796\n",
            "Train Epoch: 48 [1920/2101 (91%)]\tLoss: 0.551756\n",
            "Train Epoch: 49 [0/2101 (0%)]\tLoss: 0.553720\n",
            "Train Epoch: 49 [640/2101 (30%)]\tLoss: 0.551792\n",
            "Train Epoch: 49 [1280/2101 (61%)]\tLoss: 0.551761\n",
            "Train Epoch: 49 [1920/2101 (91%)]\tLoss: 0.552074\n"
          ]
        }
      ],
      "source": [
        "# training loop\n",
        "batch_losses = []\n",
        "num_epochs = 50\n",
        "for epoch in range(num_epochs):\n",
        "    model.train()\n",
        "    for batch_idx, (data, target) in enumerate(train_dataloader):\n",
        "\n",
        "      data = data.to(device, dtype=torch.float)\n",
        "      target = target.type(torch.LongTensor).squeeze()\n",
        "      target = target.to(device)\n",
        "\n",
        "      optimizer.zero_grad()\n",
        "      output = model(data)\n",
        "\n",
        "      loss = criterion(output, target)\n",
        "      batch_losses.append(loss)\n",
        "      loss.backward()\n",
        "      optimizer.step()\n",
        "\n",
        "      if batch_idx % 10 == 0:\n",
        "          print('Train Epoch: {} [{}/{} ({:.0f}%)]\\tLoss: {:.6f}'.format(\n",
        "              epoch, batch_idx * len(data), len(train_dataloader.dataset),\n",
        "              100. * batch_idx / len(train_dataloader), loss.item()))"
      ]
    },
    {
      "cell_type": "code",
      "execution_count": null,
      "metadata": {
        "id": "qp0Q6YapcBV-",
        "colab": {
          "base_uri": "https://localhost:8080/",
          "height": 256
        },
        "outputId": "b486de3a-4758-4c72-917c-63591d446900"
      },
      "outputs": [
        {
          "output_type": "display_data",
          "data": {
            "text/plain": [
              "<Figure size 1200x200 with 1 Axes>"
            ],
            "image/png": "[encoded data removed]"
          },
          "metadata": {}
        }
      ],
      "source": [
        "plt.figure(figsize=[12,2])\n",
        "plt.title(\"Training Loss, ResNet18, Learning Rate=0.00001 (50 Training Epochs)\");\n",
        "plt.ylabel(\"CE Loss\");\n",
        "plt.xlabel(\"Batch Number\");\n",
        "batch_losses_cpu = torch.tensor(batch_losses).cpu().numpy()\n",
        "plt.plot(batch_losses_cpu);"
      ]
    },
    {
      "cell_type": "markdown",
      "metadata": {
        "id": "ssRsX2t9Znbu"
      },
      "source": [
        "# Test Model"
      ]
    },
    {
      "cell_type": "code",
      "execution_count": null,
      "metadata": {
        "colab": {
          "base_uri": "https://localhost:8080/"
        },
        "id": "aI2qFTVrYTF_",
        "outputId": "00fb5bb1-8502-4552-ecb0-b170640e3e11"
      },
      "outputs": [
        {
          "output_type": "stream",
          "name": "stderr",
          "text": [
            "<ipython-input-12-e8f373e4609a>:23: DeprecationWarning: Starting with ImageIO v3 the behavior of this function will switch to that of iio.v3.imread. To keep the current behavior (and make this warning disappear) use `import imageio.v2 as imageio` or call `imageio.v2.imread` directly.\n",
            "  img_data = imageio.imread(spect_path)\n"
          ]
        },
        {
          "output_type": "stream",
          "name": "stdout",
          "text": [
            "tensor([0, 0, 2, 0, 2, 0, 0, 0, 0, 2, 0, 0, 0, 2, 0, 0, 0, 0, 0, 0, 0, 1, 2, 0,\n",
            "        0, 0, 0, 0, 2, 2, 0, 2, 0, 0, 2, 0, 0, 0, 0, 0, 0, 0, 0, 0, 0, 0, 0, 2,\n",
            "        0, 2, 0, 0, 0, 0, 0, 0, 0, 0, 0, 0, 0, 0, 0, 0], device='cuda:0')\n",
            "tensor([2, 0, 0, 0, 0, 0, 2, 0, 0, 0, 0, 0, 0, 0, 0, 0, 0, 0, 0, 0, 0, 0, 0, 0,\n",
            "        0, 0, 0, 0, 2, 0, 0, 0, 0, 0, 0, 0, 2, 0, 0, 0, 0, 0, 0, 2, 2, 2, 0, 0,\n",
            "        0, 2, 2, 0, 0, 0, 0, 2, 2, 0, 2, 2, 2, 0, 2, 0], device='cuda:0')\n",
            "tensor([2, 0, 2, 0, 0, 0, 0, 0, 0, 0, 2, 2, 2, 0, 2, 0, 2, 0, 0, 2, 0, 0, 0, 2,\n",
            "        0, 2, 0, 0, 0, 0, 0, 0, 0, 2, 0, 2, 2, 2, 0, 0, 0, 0, 2, 0, 2, 2, 0, 2,\n",
            "        0, 0, 0, 0, 0, 0, 0, 0, 0, 0, 0, 0, 0, 0, 0, 0], device='cuda:0')\n",
            "tensor([0, 0, 2, 2, 2, 0, 0, 0, 0, 0, 2, 2, 0, 0, 0, 0, 0, 0, 0, 0, 0, 0, 0, 0,\n",
            "        2, 0, 0, 0, 0, 0, 2, 0, 2, 0, 0, 2, 0, 0, 0, 0, 0, 2, 0, 0, 0, 0, 0, 2,\n",
            "        0, 2, 2, 0, 0, 1, 0, 0, 0, 0, 0, 0, 0, 2, 0, 0], device='cuda:0')\n",
            "tensor([0, 0, 0, 0, 0, 0, 0, 0, 0, 0, 0, 2, 0, 0, 0, 0, 0, 0, 0, 0, 0, 0, 0, 2,\n",
            "        0, 0, 0, 0, 0, 0, 0, 0, 0, 0, 0, 0, 0, 2, 2, 0, 0, 0, 0, 0, 0, 0, 0, 0,\n",
            "        0, 0, 0, 0, 0, 0, 0, 0, 0, 0, 0, 0, 0, 0, 0, 0], device='cuda:0')\n",
            "tensor([2, 2, 0, 0, 0, 0, 0, 0, 0, 0, 0, 0, 0, 0, 0, 0, 0, 0, 0, 0, 0, 0, 0, 0,\n",
            "        0, 0, 0, 2, 0, 0, 0, 0, 2, 0, 0, 0, 0, 0, 0, 0, 0, 0, 2, 0, 0, 0, 0, 0,\n",
            "        0, 0, 2, 2, 2, 0, 2, 2, 0, 2, 0, 0, 0, 0, 0, 0], device='cuda:0')\n",
            "tensor([0, 0, 0, 0, 0, 0, 1, 0, 2, 0, 0, 0, 0, 0, 0, 2, 0, 0, 0, 0, 0, 2, 0, 0,\n",
            "        0, 0, 0, 0, 2, 2, 0, 0, 0, 0, 0, 2, 0, 0, 0, 0, 0, 0, 0, 0, 2, 0, 0, 0,\n",
            "        0, 1, 2, 2, 0, 2, 0, 0, 0, 0, 0, 0, 2, 2, 0, 2], device='cuda:0')\n",
            "tensor([0, 0, 0, 0, 2, 2, 0, 2, 0, 0, 0, 0, 0, 0, 0, 0, 2, 0, 2, 0, 2, 0],\n",
            "       device='cuda:0')\n",
            "Accuracy of the network on the test images: 0.6510638297872341\n",
            "Recall for class 0: 0.8164383561643835\n",
            "Recall for class 1: 0.037037037037037035\n",
            "Recall for class 2: 0.20833333333333334\n",
            "Precision for class 0: 0.7967914438502673\n",
            "Precision for class 1: 0.75\n",
            "Precision for class 2: 0.05434782608695652\n"
          ]
        }
      ],
      "source": [
        "model.eval()\n",
        "\n",
        "correct = 0\n",
        "total = 0\n",
        "y_true = []\n",
        "y_pred = []\n",
        "\n",
        "# No need to track gradients for validation, hence torch.no_grad()\n",
        "with torch.no_grad():\n",
        "    for data in test_dataloader:\n",
        "        inputs, labels = data\n",
        "        inputs = inputs.to(device, dtype=torch.float)\n",
        "        labels = labels.type(torch.LongTensor).squeeze()\n",
        "        labels = labels.to(device)\n",
        "        # Forward pass to get outputs\n",
        "        outputs = model(inputs)\n",
        "\n",
        "        # The class with the highest value is our predicted class\n",
        "        _, predicted = torch.max(outputs.data, 1)\n",
        "        print(predicted)\n",
        "\n",
        "        total += labels.size(0)\n",
        "        correct += (predicted == labels).sum().item()\n",
        "        y_true += labels.tolist()\n",
        "        y_pred += predicted.tolist()\n",
        "\n",
        "accuracy = correct / total\n",
        "# print(f'Accuracy of the network on the test images: {accuracy * 100:.2f}%')\n",
        "print(f'Accuracy of the network on the test images: {accuracy}')\n",
        "\n",
        "recalls = recall_score(y_true, y_pred, labels=[0, 1, 2], average=None)\n",
        "precisions = precision_score(y_true, y_pred, labels=[0, 1, 2], average=None)\n",
        "\n",
        "print(\"Recall for class 0:\", recalls[0])\n",
        "print(\"Recall for class 1:\", recalls[1])\n",
        "print(\"Recall for class 2:\", recalls[2])\n",
        "\n",
        "print(\"Precision for class 0:\", precisions[0])\n",
        "print(\"Precision for class 1:\", precisions[1])\n",
        "print(\"Precision for class 2:\", precisions[2])\n"
      ]
    },
    {
      "cell_type": "code",
      "execution_count": null,
      "metadata": {
        "id": "ITnDFLqtZsgW"
      },
      "outputs": [],
      "source": []
    }
  ],
  "metadata": {
    "accelerator": "GPU",
    "colab": {
      "gpuType": "V100",
      "machine_shape": "hm",
      "provenance": []
    },
    "kernelspec": {
      "display_name": "Python 3",
      "name": "python3"
    },
    "language_info": {
      "name": "python"
    }
  },
  "nbformat": 4,
  "nbformat_minor": 0
}